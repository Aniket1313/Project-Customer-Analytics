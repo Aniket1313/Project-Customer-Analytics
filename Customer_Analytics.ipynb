{
  "nbformat": 4,
  "nbformat_minor": 0,
  "metadata": {
    "colab": {
      "name": "Customer Analytics.ipynb",
      "provenance": [],
      "collapsed_sections": []
    },
    "kernelspec": {
      "name": "python3",
      "display_name": "Python 3"
    }
  },
  "cells": [
    {
      "cell_type": "markdown",
      "metadata": {
        "id": "xXdLM1ARdr2G"
      },
      "source": [
        "\n",
        "\n",
        "![Quantium.png](data:image/png;base64,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)\n",
        "\n",
        "Link to Presentation:"
      ]
    },
    {
      "cell_type": "markdown",
      "metadata": {
        "id": "wXXFevEnfCA-"
      },
      "source": [
        "#### ***GOAL*** : To analyse the data to understand the current purchasing trends and behaviours. The client is particularly interested in customer segments and their chip purchasing behaviour."
      ]
    },
    {
      "cell_type": "code",
      "metadata": {
        "id": "9MarVaqacMCi"
      },
      "source": [
        "import pandas as pd\n",
        "import numpy as np\n",
        "import seaborn as sns"
      ],
      "execution_count": 14,
      "outputs": []
    },
    {
      "cell_type": "markdown",
      "metadata": {
        "id": "g-u6YzWXeSs7"
      },
      "source": [
        "#1.1 Loading Purchase Behaviour Data\n",
        "\n",
        "\n",
        "\n",
        "*   ***LIFESTAGE:*** Customer attribute that identifies whether a customer has a family or not and what point in life they are at e.g. are their children in pre-school/primary/secondary school.\n",
        "*   ***PREMIUM_CUSTOMER:*** Customer segmentation used to differentiate shoppers by the price point of products they buy and the types of products they buy. It is used to identify whether customers may spend more for quality or brand or whether they will purchase the cheapest options.\n",
        "\n"
      ]
    },
    {
      "cell_type": "code",
      "metadata": {
        "colab": {
          "base_uri": "https://localhost:8080/",
          "height": 359
        },
        "id": "iewO6itpcZjI",
        "outputId": "85cf6ff1-186f-45b5-a43d-fad91f7453a3"
      },
      "source": [
        "purchase_data = pd.read_csv(\"QVI_purchase_behaviour.csv\")\n",
        "purchase_data.head(10)"
      ],
      "execution_count": 5,
      "outputs": [
        {
          "output_type": "execute_result",
          "data": {
            "text/html": [
              "<div>\n",
              "<style scoped>\n",
              "    .dataframe tbody tr th:only-of-type {\n",
              "        vertical-align: middle;\n",
              "    }\n",
              "\n",
              "    .dataframe tbody tr th {\n",
              "        vertical-align: top;\n",
              "    }\n",
              "\n",
              "    .dataframe thead th {\n",
              "        text-align: right;\n",
              "    }\n",
              "</style>\n",
              "<table border=\"1\" class=\"dataframe\">\n",
              "  <thead>\n",
              "    <tr style=\"text-align: right;\">\n",
              "      <th></th>\n",
              "      <th>LYLTY_CARD_NBR</th>\n",
              "      <th>LIFESTAGE</th>\n",
              "      <th>PREMIUM_CUSTOMER</th>\n",
              "    </tr>\n",
              "  </thead>\n",
              "  <tbody>\n",
              "    <tr>\n",
              "      <th>0</th>\n",
              "      <td>1000</td>\n",
              "      <td>YOUNG SINGLES/COUPLES</td>\n",
              "      <td>Premium</td>\n",
              "    </tr>\n",
              "    <tr>\n",
              "      <th>1</th>\n",
              "      <td>1002</td>\n",
              "      <td>YOUNG SINGLES/COUPLES</td>\n",
              "      <td>Mainstream</td>\n",
              "    </tr>\n",
              "    <tr>\n",
              "      <th>2</th>\n",
              "      <td>1003</td>\n",
              "      <td>YOUNG FAMILIES</td>\n",
              "      <td>Budget</td>\n",
              "    </tr>\n",
              "    <tr>\n",
              "      <th>3</th>\n",
              "      <td>1004</td>\n",
              "      <td>OLDER SINGLES/COUPLES</td>\n",
              "      <td>Mainstream</td>\n",
              "    </tr>\n",
              "    <tr>\n",
              "      <th>4</th>\n",
              "      <td>1005</td>\n",
              "      <td>MIDAGE SINGLES/COUPLES</td>\n",
              "      <td>Mainstream</td>\n",
              "    </tr>\n",
              "    <tr>\n",
              "      <th>5</th>\n",
              "      <td>1007</td>\n",
              "      <td>YOUNG SINGLES/COUPLES</td>\n",
              "      <td>Budget</td>\n",
              "    </tr>\n",
              "    <tr>\n",
              "      <th>6</th>\n",
              "      <td>1009</td>\n",
              "      <td>NEW FAMILIES</td>\n",
              "      <td>Premium</td>\n",
              "    </tr>\n",
              "    <tr>\n",
              "      <th>7</th>\n",
              "      <td>1010</td>\n",
              "      <td>YOUNG SINGLES/COUPLES</td>\n",
              "      <td>Mainstream</td>\n",
              "    </tr>\n",
              "    <tr>\n",
              "      <th>8</th>\n",
              "      <td>1011</td>\n",
              "      <td>OLDER SINGLES/COUPLES</td>\n",
              "      <td>Mainstream</td>\n",
              "    </tr>\n",
              "    <tr>\n",
              "      <th>9</th>\n",
              "      <td>1012</td>\n",
              "      <td>OLDER FAMILIES</td>\n",
              "      <td>Mainstream</td>\n",
              "    </tr>\n",
              "  </tbody>\n",
              "</table>\n",
              "</div>"
            ],
            "text/plain": [
              "   LYLTY_CARD_NBR               LIFESTAGE PREMIUM_CUSTOMER\n",
              "0            1000   YOUNG SINGLES/COUPLES          Premium\n",
              "1            1002   YOUNG SINGLES/COUPLES       Mainstream\n",
              "2            1003          YOUNG FAMILIES           Budget\n",
              "3            1004   OLDER SINGLES/COUPLES       Mainstream\n",
              "4            1005  MIDAGE SINGLES/COUPLES       Mainstream\n",
              "5            1007   YOUNG SINGLES/COUPLES           Budget\n",
              "6            1009            NEW FAMILIES          Premium\n",
              "7            1010   YOUNG SINGLES/COUPLES       Mainstream\n",
              "8            1011   OLDER SINGLES/COUPLES       Mainstream\n",
              "9            1012          OLDER FAMILIES       Mainstream"
            ]
          },
          "metadata": {
            "tags": []
          },
          "execution_count": 5
        }
      ]
    },
    {
      "cell_type": "code",
      "metadata": {
        "colab": {
          "base_uri": "https://localhost:8080/"
        },
        "id": "9MbslUxLctaA",
        "outputId": "6f7b3d80-8389-43e7-815e-da5d01909298"
      },
      "source": [
        "purchase_data.isna().sum()"
      ],
      "execution_count": 6,
      "outputs": [
        {
          "output_type": "execute_result",
          "data": {
            "text/plain": [
              "LYLTY_CARD_NBR      0\n",
              "LIFESTAGE           0\n",
              "PREMIUM_CUSTOMER    0\n",
              "dtype: int64"
            ]
          },
          "metadata": {
            "tags": []
          },
          "execution_count": 6
        }
      ]
    },
    {
      "cell_type": "code",
      "metadata": {
        "colab": {
          "base_uri": "https://localhost:8080/"
        },
        "id": "VF6pugO0dB4m",
        "outputId": "82b2026c-8294-4373-aef6-0e0b840a49ba"
      },
      "source": [
        "purchase_data.shape"
      ],
      "execution_count": 10,
      "outputs": [
        {
          "output_type": "execute_result",
          "data": {
            "text/plain": [
              "(72637, 3)"
            ]
          },
          "metadata": {
            "tags": []
          },
          "execution_count": 10
        }
      ]
    },
    {
      "cell_type": "code",
      "metadata": {
        "colab": {
          "base_uri": "https://localhost:8080/"
        },
        "id": "5OvC710adG_Y",
        "outputId": "17c2fba8-c4ba-4ed5-b014-89f8e360fff2"
      },
      "source": [
        "purchase_data.LYLTY_CARD_NBR.max()"
      ],
      "execution_count": 11,
      "outputs": [
        {
          "output_type": "execute_result",
          "data": {
            "text/plain": [
              "2373711"
            ]
          },
          "metadata": {
            "tags": []
          },
          "execution_count": 11
        }
      ]
    },
    {
      "cell_type": "code",
      "metadata": {
        "colab": {
          "base_uri": "https://localhost:8080/"
        },
        "id": "2SFGfNqSdTEE",
        "outputId": "703c9cf5-7289-4c9f-f241-a58a6bb1eb34"
      },
      "source": [
        "purchase_data.LIFESTAGE.value_counts()"
      ],
      "execution_count": 12,
      "outputs": [
        {
          "output_type": "execute_result",
          "data": {
            "text/plain": [
              "RETIREES                  14805\n",
              "OLDER SINGLES/COUPLES     14609\n",
              "YOUNG SINGLES/COUPLES     14441\n",
              "OLDER FAMILIES             9780\n",
              "YOUNG FAMILIES             9178\n",
              "MIDAGE SINGLES/COUPLES     7275\n",
              "NEW FAMILIES               2549\n",
              "Name: LIFESTAGE, dtype: int64"
            ]
          },
          "metadata": {
            "tags": []
          },
          "execution_count": 12
        }
      ]
    },
    {
      "cell_type": "code",
      "metadata": {
        "colab": {
          "base_uri": "https://localhost:8080/"
        },
        "id": "AjPNogRMdZg4",
        "outputId": "229df92c-6710-474f-e2b2-470b14adf3ab"
      },
      "source": [
        "\n",
        "purchase_data.PREMIUM_CUSTOMER.value_counts()"
      ],
      "execution_count": 13,
      "outputs": [
        {
          "output_type": "execute_result",
          "data": {
            "text/plain": [
              "Mainstream    29245\n",
              "Budget        24470\n",
              "Premium       18922\n",
              "Name: PREMIUM_CUSTOMER, dtype: int64"
            ]
          },
          "metadata": {
            "tags": []
          },
          "execution_count": 13
        }
      ]
    },
    {
      "cell_type": "markdown",
      "metadata": {
        "id": "-ysCJLbZhl7z"
      },
      "source": [
        "#1.2 Loading  Customer Transaction Data"
      ]
    },
    {
      "cell_type": "code",
      "metadata": {
        "id": "RIU4c76adcvx"
      },
      "source": [
        "data = pd.read_excel(\"QVI_transaction_data.xlsx\")"
      ],
      "execution_count": 16,
      "outputs": []
    },
    {
      "cell_type": "code",
      "metadata": {
        "colab": {
          "base_uri": "https://localhost:8080/",
          "height": 359
        },
        "id": "z3rRQ6PMhc9n",
        "outputId": "536f0f4d-98db-4617-c38b-50c60dfbb862"
      },
      "source": [
        "data.head(10)"
      ],
      "execution_count": 18,
      "outputs": [
        {
          "output_type": "execute_result",
          "data": {
            "text/html": [
              "<div>\n",
              "<style scoped>\n",
              "    .dataframe tbody tr th:only-of-type {\n",
              "        vertical-align: middle;\n",
              "    }\n",
              "\n",
              "    .dataframe tbody tr th {\n",
              "        vertical-align: top;\n",
              "    }\n",
              "\n",
              "    .dataframe thead th {\n",
              "        text-align: right;\n",
              "    }\n",
              "</style>\n",
              "<table border=\"1\" class=\"dataframe\">\n",
              "  <thead>\n",
              "    <tr style=\"text-align: right;\">\n",
              "      <th></th>\n",
              "      <th>DATE</th>\n",
              "      <th>STORE_NBR</th>\n",
              "      <th>LYLTY_CARD_NBR</th>\n",
              "      <th>TXN_ID</th>\n",
              "      <th>PROD_NBR</th>\n",
              "      <th>PROD_NAME</th>\n",
              "      <th>PROD_QTY</th>\n",
              "      <th>TOT_SALES</th>\n",
              "    </tr>\n",
              "  </thead>\n",
              "  <tbody>\n",
              "    <tr>\n",
              "      <th>0</th>\n",
              "      <td>43390</td>\n",
              "      <td>1</td>\n",
              "      <td>1000</td>\n",
              "      <td>1</td>\n",
              "      <td>5</td>\n",
              "      <td>Natural Chip        Compny SeaSalt175g</td>\n",
              "      <td>2</td>\n",
              "      <td>6.0</td>\n",
              "    </tr>\n",
              "    <tr>\n",
              "      <th>1</th>\n",
              "      <td>43599</td>\n",
              "      <td>1</td>\n",
              "      <td>1307</td>\n",
              "      <td>348</td>\n",
              "      <td>66</td>\n",
              "      <td>CCs Nacho Cheese    175g</td>\n",
              "      <td>3</td>\n",
              "      <td>6.3</td>\n",
              "    </tr>\n",
              "    <tr>\n",
              "      <th>2</th>\n",
              "      <td>43605</td>\n",
              "      <td>1</td>\n",
              "      <td>1343</td>\n",
              "      <td>383</td>\n",
              "      <td>61</td>\n",
              "      <td>Smiths Crinkle Cut  Chips Chicken 170g</td>\n",
              "      <td>2</td>\n",
              "      <td>2.9</td>\n",
              "    </tr>\n",
              "    <tr>\n",
              "      <th>3</th>\n",
              "      <td>43329</td>\n",
              "      <td>2</td>\n",
              "      <td>2373</td>\n",
              "      <td>974</td>\n",
              "      <td>69</td>\n",
              "      <td>Smiths Chip Thinly  S/Cream&amp;Onion 175g</td>\n",
              "      <td>5</td>\n",
              "      <td>15.0</td>\n",
              "    </tr>\n",
              "    <tr>\n",
              "      <th>4</th>\n",
              "      <td>43330</td>\n",
              "      <td>2</td>\n",
              "      <td>2426</td>\n",
              "      <td>1038</td>\n",
              "      <td>108</td>\n",
              "      <td>Kettle Tortilla ChpsHny&amp;Jlpno Chili 150g</td>\n",
              "      <td>3</td>\n",
              "      <td>13.8</td>\n",
              "    </tr>\n",
              "    <tr>\n",
              "      <th>5</th>\n",
              "      <td>43604</td>\n",
              "      <td>4</td>\n",
              "      <td>4074</td>\n",
              "      <td>2982</td>\n",
              "      <td>57</td>\n",
              "      <td>Old El Paso Salsa   Dip Tomato Mild 300g</td>\n",
              "      <td>1</td>\n",
              "      <td>5.1</td>\n",
              "    </tr>\n",
              "    <tr>\n",
              "      <th>6</th>\n",
              "      <td>43601</td>\n",
              "      <td>4</td>\n",
              "      <td>4149</td>\n",
              "      <td>3333</td>\n",
              "      <td>16</td>\n",
              "      <td>Smiths Crinkle Chips Salt &amp; Vinegar 330g</td>\n",
              "      <td>1</td>\n",
              "      <td>5.7</td>\n",
              "    </tr>\n",
              "    <tr>\n",
              "      <th>7</th>\n",
              "      <td>43601</td>\n",
              "      <td>4</td>\n",
              "      <td>4196</td>\n",
              "      <td>3539</td>\n",
              "      <td>24</td>\n",
              "      <td>Grain Waves         Sweet Chilli 210g</td>\n",
              "      <td>1</td>\n",
              "      <td>3.6</td>\n",
              "    </tr>\n",
              "    <tr>\n",
              "      <th>8</th>\n",
              "      <td>43332</td>\n",
              "      <td>5</td>\n",
              "      <td>5026</td>\n",
              "      <td>4525</td>\n",
              "      <td>42</td>\n",
              "      <td>Doritos Corn Chip Mexican Jalapeno 150g</td>\n",
              "      <td>1</td>\n",
              "      <td>3.9</td>\n",
              "    </tr>\n",
              "    <tr>\n",
              "      <th>9</th>\n",
              "      <td>43330</td>\n",
              "      <td>7</td>\n",
              "      <td>7150</td>\n",
              "      <td>6900</td>\n",
              "      <td>52</td>\n",
              "      <td>Grain Waves Sour    Cream&amp;Chives 210G</td>\n",
              "      <td>2</td>\n",
              "      <td>7.2</td>\n",
              "    </tr>\n",
              "  </tbody>\n",
              "</table>\n",
              "</div>"
            ],
            "text/plain": [
              "    DATE  STORE_NBR  ...  PROD_QTY  TOT_SALES\n",
              "0  43390          1  ...         2        6.0\n",
              "1  43599          1  ...         3        6.3\n",
              "2  43605          1  ...         2        2.9\n",
              "3  43329          2  ...         5       15.0\n",
              "4  43330          2  ...         3       13.8\n",
              "5  43604          4  ...         1        5.1\n",
              "6  43601          4  ...         1        5.7\n",
              "7  43601          4  ...         1        3.6\n",
              "8  43332          5  ...         1        3.9\n",
              "9  43330          7  ...         2        7.2\n",
              "\n",
              "[10 rows x 8 columns]"
            ]
          },
          "metadata": {
            "tags": []
          },
          "execution_count": 18
        }
      ]
    },
    {
      "cell_type": "markdown",
      "metadata": {
        "id": "x-6EY9BSneRg"
      },
      "source": [
        "#1.3 Data Summarization"
      ]
    },
    {
      "cell_type": "code",
      "metadata": {
        "colab": {
          "base_uri": "https://localhost:8080/",
          "height": 297
        },
        "id": "2rCFpg32nJPK",
        "outputId": "5719a769-a756-42cc-d7b4-04c78837edcc"
      },
      "source": [
        "data.describe()"
      ],
      "execution_count": 45,
      "outputs": [
        {
          "output_type": "execute_result",
          "data": {
            "text/html": [
              "<div>\n",
              "<style scoped>\n",
              "    .dataframe tbody tr th:only-of-type {\n",
              "        vertical-align: middle;\n",
              "    }\n",
              "\n",
              "    .dataframe tbody tr th {\n",
              "        vertical-align: top;\n",
              "    }\n",
              "\n",
              "    .dataframe thead th {\n",
              "        text-align: right;\n",
              "    }\n",
              "</style>\n",
              "<table border=\"1\" class=\"dataframe\">\n",
              "  <thead>\n",
              "    <tr style=\"text-align: right;\">\n",
              "      <th></th>\n",
              "      <th>DATE</th>\n",
              "      <th>STORE_NBR</th>\n",
              "      <th>LYLTY_CARD_NBR</th>\n",
              "      <th>TXN_ID</th>\n",
              "      <th>PROD_NBR</th>\n",
              "      <th>PROD_QTY</th>\n",
              "      <th>TOT_SALES</th>\n",
              "    </tr>\n",
              "  </thead>\n",
              "  <tbody>\n",
              "    <tr>\n",
              "      <th>count</th>\n",
              "      <td>264836.000000</td>\n",
              "      <td>264836.00000</td>\n",
              "      <td>2.648360e+05</td>\n",
              "      <td>2.648360e+05</td>\n",
              "      <td>264836.000000</td>\n",
              "      <td>264836.000000</td>\n",
              "      <td>264836.000000</td>\n",
              "    </tr>\n",
              "    <tr>\n",
              "      <th>mean</th>\n",
              "      <td>43464.036260</td>\n",
              "      <td>135.08011</td>\n",
              "      <td>1.355495e+05</td>\n",
              "      <td>1.351583e+05</td>\n",
              "      <td>56.583157</td>\n",
              "      <td>1.907309</td>\n",
              "      <td>7.304200</td>\n",
              "    </tr>\n",
              "    <tr>\n",
              "      <th>std</th>\n",
              "      <td>105.389282</td>\n",
              "      <td>76.78418</td>\n",
              "      <td>8.057998e+04</td>\n",
              "      <td>7.813303e+04</td>\n",
              "      <td>32.826638</td>\n",
              "      <td>0.643654</td>\n",
              "      <td>3.083226</td>\n",
              "    </tr>\n",
              "    <tr>\n",
              "      <th>min</th>\n",
              "      <td>43282.000000</td>\n",
              "      <td>1.00000</td>\n",
              "      <td>1.000000e+03</td>\n",
              "      <td>1.000000e+00</td>\n",
              "      <td>1.000000</td>\n",
              "      <td>1.000000</td>\n",
              "      <td>1.500000</td>\n",
              "    </tr>\n",
              "    <tr>\n",
              "      <th>25%</th>\n",
              "      <td>43373.000000</td>\n",
              "      <td>70.00000</td>\n",
              "      <td>7.002100e+04</td>\n",
              "      <td>6.760150e+04</td>\n",
              "      <td>28.000000</td>\n",
              "      <td>2.000000</td>\n",
              "      <td>5.400000</td>\n",
              "    </tr>\n",
              "    <tr>\n",
              "      <th>50%</th>\n",
              "      <td>43464.000000</td>\n",
              "      <td>130.00000</td>\n",
              "      <td>1.303575e+05</td>\n",
              "      <td>1.351375e+05</td>\n",
              "      <td>56.000000</td>\n",
              "      <td>2.000000</td>\n",
              "      <td>7.400000</td>\n",
              "    </tr>\n",
              "    <tr>\n",
              "      <th>75%</th>\n",
              "      <td>43555.000000</td>\n",
              "      <td>203.00000</td>\n",
              "      <td>2.030942e+05</td>\n",
              "      <td>2.027012e+05</td>\n",
              "      <td>85.000000</td>\n",
              "      <td>2.000000</td>\n",
              "      <td>9.200000</td>\n",
              "    </tr>\n",
              "    <tr>\n",
              "      <th>max</th>\n",
              "      <td>43646.000000</td>\n",
              "      <td>272.00000</td>\n",
              "      <td>2.373711e+06</td>\n",
              "      <td>2.415841e+06</td>\n",
              "      <td>114.000000</td>\n",
              "      <td>200.000000</td>\n",
              "      <td>650.000000</td>\n",
              "    </tr>\n",
              "  </tbody>\n",
              "</table>\n",
              "</div>"
            ],
            "text/plain": [
              "                DATE     STORE_NBR  ...       PROD_QTY      TOT_SALES\n",
              "count  264836.000000  264836.00000  ...  264836.000000  264836.000000\n",
              "mean    43464.036260     135.08011  ...       1.907309       7.304200\n",
              "std       105.389282      76.78418  ...       0.643654       3.083226\n",
              "min     43282.000000       1.00000  ...       1.000000       1.500000\n",
              "25%     43373.000000      70.00000  ...       2.000000       5.400000\n",
              "50%     43464.000000     130.00000  ...       2.000000       7.400000\n",
              "75%     43555.000000     203.00000  ...       2.000000       9.200000\n",
              "max     43646.000000     272.00000  ...     200.000000     650.000000\n",
              "\n",
              "[8 rows x 7 columns]"
            ]
          },
          "metadata": {
            "tags": []
          },
          "execution_count": 45
        }
      ]
    },
    {
      "cell_type": "code",
      "metadata": {
        "colab": {
          "base_uri": "https://localhost:8080/"
        },
        "id": "uWgQm59OnMJp",
        "outputId": "76a0499d-c153-46d2-e700-0b69844d6ce0"
      },
      "source": [
        "data.info()"
      ],
      "execution_count": 46,
      "outputs": [
        {
          "output_type": "stream",
          "text": [
            "<class 'pandas.core.frame.DataFrame'>\n",
            "RangeIndex: 264836 entries, 0 to 264835\n",
            "Data columns (total 8 columns):\n",
            " #   Column          Non-Null Count   Dtype  \n",
            "---  ------          --------------   -----  \n",
            " 0   DATE            264836 non-null  int64  \n",
            " 1   STORE_NBR       264836 non-null  int64  \n",
            " 2   LYLTY_CARD_NBR  264836 non-null  int64  \n",
            " 3   TXN_ID          264836 non-null  int64  \n",
            " 4   PROD_NBR        264836 non-null  int64  \n",
            " 5   PROD_NAME       264836 non-null  object \n",
            " 6   PROD_QTY        264836 non-null  int64  \n",
            " 7   TOT_SALES       264836 non-null  float64\n",
            "dtypes: float64(1), int64(6), object(1)\n",
            "memory usage: 16.2+ MB\n"
          ],
          "name": "stdout"
        }
      ]
    },
    {
      "cell_type": "code",
      "metadata": {
        "colab": {
          "base_uri": "https://localhost:8080/"
        },
        "id": "Kf-ewuyuheiO",
        "outputId": "8d165be2-f9a7-47da-8750-088175fcac26"
      },
      "source": [
        "#Checking null values \n",
        "data.isna().sum()"
      ],
      "execution_count": 20,
      "outputs": [
        {
          "output_type": "execute_result",
          "data": {
            "text/plain": [
              "DATE              0\n",
              "STORE_NBR         0\n",
              "LYLTY_CARD_NBR    0\n",
              "TXN_ID            0\n",
              "PROD_NBR          0\n",
              "PROD_NAME         0\n",
              "PROD_QTY          0\n",
              "TOT_SALES         0\n",
              "dtype: int64"
            ]
          },
          "metadata": {
            "tags": []
          },
          "execution_count": 20
        }
      ]
    },
    {
      "cell_type": "code",
      "metadata": {
        "colab": {
          "base_uri": "https://localhost:8080/"
        },
        "id": "zf1Q9RFxh5BV",
        "outputId": "88c2a6d4-91d9-4a96-bede-02f187316739"
      },
      "source": [
        "data.shape"
      ],
      "execution_count": 21,
      "outputs": [
        {
          "output_type": "execute_result",
          "data": {
            "text/plain": [
              "(264836, 8)"
            ]
          },
          "metadata": {
            "tags": []
          },
          "execution_count": 21
        }
      ]
    },
    {
      "cell_type": "markdown",
      "metadata": {
        "id": "8kDWyIoBnSJC"
      },
      "source": [
        "#1.4 Checking for Outliers"
      ]
    },
    {
      "cell_type": "code",
      "metadata": {
        "colab": {
          "base_uri": "https://localhost:8080/",
          "height": 294
        },
        "id": "kZPfz_QJiLny",
        "outputId": "53260656-e6b2-4217-8911-846dc69f72f5"
      },
      "source": [
        "data.boxplot()"
      ],
      "execution_count": 22,
      "outputs": [
        {
          "output_type": "execute_result",
          "data": {
            "text/plain": [
              "<matplotlib.axes._subplots.AxesSubplot at 0x7f845207ac50>"
            ]
          },
          "metadata": {
            "tags": []
          },
          "execution_count": 22
        },
        {
          "output_type": "display_data",
          "data": {
            "image/png": "[encoded data removed]",
            "text/plain": [
              "<Figure size 432x288 with 1 Axes>"
            ]
          },
          "metadata": {
            "tags": [],
            "needs_background": "light"
          }
        }
      ]
    },
    {
      "cell_type": "code",
      "metadata": {
        "colab": {
          "base_uri": "https://localhost:8080/",
          "height": 351
        },
        "id": "AnIBkwq4iUGP",
        "outputId": "cc90aaa2-b260-4ceb-baa3-826194ca1e6f"
      },
      "source": [
        "sns.boxplot(data.TOT_SALES )"
      ],
      "execution_count": 23,
      "outputs": [
        {
          "output_type": "stream",
          "text": [
            "/usr/local/lib/python3.6/dist-packages/seaborn/_decorators.py:43: FutureWarning: Pass the following variable as a keyword arg: x. From version 0.12, the only valid positional argument will be `data`, and passing other arguments without an explicit keyword will result in an error or misinterpretation.\n",
            "  FutureWarning\n"
          ],
          "name": "stderr"
        },
        {
          "output_type": "execute_result",
          "data": {
            "text/plain": [
              "<matplotlib.axes._subplots.AxesSubplot at 0x7f844ebe1cf8>"
            ]
          },
          "metadata": {
            "tags": []
          },
          "execution_count": 23
        },
        {
          "output_type": "display_data",
          "data": {
            "image/png": "[encoded data removed]",
            "text/plain": [
              "<Figure size 432x288 with 1 Axes>"
            ]
          },
          "metadata": {
            "tags": [],
            "needs_background": "light"
          }
        }
      ]
    },
    {
      "cell_type": "markdown",
      "metadata": {
        "id": "0uGgTQIgizKc"
      },
      "source": [
        "There are outliers present in the Total sales column"
      ]
    },
    {
      "cell_type": "code",
      "metadata": {
        "colab": {
          "base_uri": "https://localhost:8080/"
        },
        "id": "Cvtu33hLiifv",
        "outputId": "585528b7-6b9f-499b-92bb-40a505d19df3"
      },
      "source": [
        "data.TOT_SALES.describe()"
      ],
      "execution_count": 24,
      "outputs": [
        {
          "output_type": "execute_result",
          "data": {
            "text/plain": [
              "count    264836.000000\n",
              "mean          7.304200\n",
              "std           3.083226\n",
              "min           1.500000\n",
              "25%           5.400000\n",
              "50%           7.400000\n",
              "75%           9.200000\n",
              "max         650.000000\n",
              "Name: TOT_SALES, dtype: float64"
            ]
          },
          "metadata": {
            "tags": []
          },
          "execution_count": 24
        }
      ]
    },
    {
      "cell_type": "code",
      "metadata": {
        "colab": {
          "base_uri": "https://localhost:8080/",
          "height": 351
        },
        "id": "qg3O0KVYiovD",
        "outputId": "192195eb-08d4-4538-8caf-a77e0e46ecfb"
      },
      "source": [
        "sns.distplot(data.TOT_SALES ,kde =True )"
      ],
      "execution_count": 25,
      "outputs": [
        {
          "output_type": "stream",
          "text": [
            "/usr/local/lib/python3.6/dist-packages/seaborn/distributions.py:2557: FutureWarning: `distplot` is a deprecated function and will be removed in a future version. Please adapt your code to use either `displot` (a figure-level function with similar flexibility) or `histplot` (an axes-level function for histograms).\n",
            "  warnings.warn(msg, FutureWarning)\n"
          ],
          "name": "stderr"
        },
        {
          "output_type": "execute_result",
          "data": {
            "text/plain": [
              "<matplotlib.axes._subplots.AxesSubplot at 0x7f844df14588>"
            ]
          },
          "metadata": {
            "tags": []
          },
          "execution_count": 25
        },
        {
          "output_type": "display_data",
          "data": {
            "image/png": "[encoded data removed]",
            "text/plain": [
              "<Figure size 432x288 with 1 Axes>"
            ]
          },
          "metadata": {
            "tags": [],
            "needs_background": "light"
          }
        }
      ]
    },
    {
      "cell_type": "code",
      "metadata": {
        "colab": {
          "base_uri": "https://localhost:8080/"
        },
        "id": "JEE0nSohktrY",
        "outputId": "c3940d4c-2d55-424c-8136-b0a54fc6b0a7"
      },
      "source": [
        "data.TOT_SALES.quantile(0.8)"
      ],
      "execution_count": 26,
      "outputs": [
        {
          "output_type": "execute_result",
          "data": {
            "text/plain": [
              "9.2"
            ]
          },
          "metadata": {
            "tags": []
          },
          "execution_count": 26
        }
      ]
    },
    {
      "cell_type": "code",
      "metadata": {
        "colab": {
          "base_uri": "https://localhost:8080/"
        },
        "id": "0JqjdJmqk7zX",
        "outputId": "1f12767a-4f68-4cec-c38a-aa46bb27f4a7"
      },
      "source": [
        "data.TOT_SALES.quantile(0.9)"
      ],
      "execution_count": 27,
      "outputs": [
        {
          "output_type": "execute_result",
          "data": {
            "text/plain": [
              "10.8"
            ]
          },
          "metadata": {
            "tags": []
          },
          "execution_count": 27
        }
      ]
    },
    {
      "cell_type": "code",
      "metadata": {
        "colab": {
          "base_uri": "https://localhost:8080/"
        },
        "id": "7wkJd_fYk-lv",
        "outputId": "f3493229-e466-45f7-8a4c-9006eaa4233b"
      },
      "source": [
        "data.TOT_SALES.median()"
      ],
      "execution_count": 28,
      "outputs": [
        {
          "output_type": "execute_result",
          "data": {
            "text/plain": [
              "7.4"
            ]
          },
          "metadata": {
            "tags": []
          },
          "execution_count": 28
        }
      ]
    },
    {
      "cell_type": "code",
      "metadata": {
        "colab": {
          "base_uri": "https://localhost:8080/"
        },
        "id": "l5VUyihklBzS",
        "outputId": "6ec82ac0-8a1e-4527-c077-011b5f119dd1"
      },
      "source": [
        "data.TOT_SALES.max()"
      ],
      "execution_count": 30,
      "outputs": [
        {
          "output_type": "execute_result",
          "data": {
            "text/plain": [
              "650.0"
            ]
          },
          "metadata": {
            "tags": []
          },
          "execution_count": 30
        }
      ]
    },
    {
      "cell_type": "code",
      "metadata": {
        "id": "JvJhE0O5lD97"
      },
      "source": [
        "#Numeric Data \n",
        "\n",
        "numeric = data.select_dtypes(['float','int'])"
      ],
      "execution_count": 33,
      "outputs": []
    },
    {
      "cell_type": "code",
      "metadata": {
        "colab": {
          "base_uri": "https://localhost:8080/",
          "height": 204
        },
        "id": "xI--bELIlTDi",
        "outputId": "00729a43-f99b-4817-9552-81434dae3859"
      },
      "source": [
        "numeric.head()"
      ],
      "execution_count": 34,
      "outputs": [
        {
          "output_type": "execute_result",
          "data": {
            "text/html": [
              "<div>\n",
              "<style scoped>\n",
              "    .dataframe tbody tr th:only-of-type {\n",
              "        vertical-align: middle;\n",
              "    }\n",
              "\n",
              "    .dataframe tbody tr th {\n",
              "        vertical-align: top;\n",
              "    }\n",
              "\n",
              "    .dataframe thead th {\n",
              "        text-align: right;\n",
              "    }\n",
              "</style>\n",
              "<table border=\"1\" class=\"dataframe\">\n",
              "  <thead>\n",
              "    <tr style=\"text-align: right;\">\n",
              "      <th></th>\n",
              "      <th>DATE</th>\n",
              "      <th>STORE_NBR</th>\n",
              "      <th>LYLTY_CARD_NBR</th>\n",
              "      <th>TXN_ID</th>\n",
              "      <th>PROD_NBR</th>\n",
              "      <th>PROD_QTY</th>\n",
              "      <th>TOT_SALES</th>\n",
              "    </tr>\n",
              "  </thead>\n",
              "  <tbody>\n",
              "    <tr>\n",
              "      <th>0</th>\n",
              "      <td>43390</td>\n",
              "      <td>1</td>\n",
              "      <td>1000</td>\n",
              "      <td>1</td>\n",
              "      <td>5</td>\n",
              "      <td>2</td>\n",
              "      <td>6.0</td>\n",
              "    </tr>\n",
              "    <tr>\n",
              "      <th>1</th>\n",
              "      <td>43599</td>\n",
              "      <td>1</td>\n",
              "      <td>1307</td>\n",
              "      <td>348</td>\n",
              "      <td>66</td>\n",
              "      <td>3</td>\n",
              "      <td>6.3</td>\n",
              "    </tr>\n",
              "    <tr>\n",
              "      <th>2</th>\n",
              "      <td>43605</td>\n",
              "      <td>1</td>\n",
              "      <td>1343</td>\n",
              "      <td>383</td>\n",
              "      <td>61</td>\n",
              "      <td>2</td>\n",
              "      <td>2.9</td>\n",
              "    </tr>\n",
              "    <tr>\n",
              "      <th>3</th>\n",
              "      <td>43329</td>\n",
              "      <td>2</td>\n",
              "      <td>2373</td>\n",
              "      <td>974</td>\n",
              "      <td>69</td>\n",
              "      <td>5</td>\n",
              "      <td>15.0</td>\n",
              "    </tr>\n",
              "    <tr>\n",
              "      <th>4</th>\n",
              "      <td>43330</td>\n",
              "      <td>2</td>\n",
              "      <td>2426</td>\n",
              "      <td>1038</td>\n",
              "      <td>108</td>\n",
              "      <td>3</td>\n",
              "      <td>13.8</td>\n",
              "    </tr>\n",
              "  </tbody>\n",
              "</table>\n",
              "</div>"
            ],
            "text/plain": [
              "    DATE  STORE_NBR  LYLTY_CARD_NBR  TXN_ID  PROD_NBR  PROD_QTY  TOT_SALES\n",
              "0  43390          1            1000       1         5         2        6.0\n",
              "1  43599          1            1307     348        66         3        6.3\n",
              "2  43605          1            1343     383        61         2        2.9\n",
              "3  43329          2            2373     974        69         5       15.0\n",
              "4  43330          2            2426    1038       108         3       13.8"
            ]
          },
          "metadata": {
            "tags": []
          },
          "execution_count": 34
        }
      ]
    },
    {
      "cell_type": "code",
      "metadata": {
        "colab": {
          "base_uri": "https://localhost:8080/"
        },
        "id": "jdtcIVKplUjl",
        "outputId": "61e2d3ee-db5a-4c0b-98fb-5fa1d322db76"
      },
      "source": [
        "data.PROD_NAME.value_counts()"
      ],
      "execution_count": 35,
      "outputs": [
        {
          "output_type": "execute_result",
          "data": {
            "text/plain": [
              "Kettle Mozzarella   Basil & Pesto 175g      3304\n",
              "Kettle Tortilla ChpsHny&Jlpno Chili 150g    3296\n",
              "Cobs Popd Swt/Chlli &Sr/Cream Chips 110g    3269\n",
              "Tyrrells Crisps     Ched & Chives 165g      3268\n",
              "Cobs Popd Sea Salt  Chips 110g              3265\n",
              "                                            ... \n",
              "RRD Pc Sea Salt     165g                    1431\n",
              "Woolworths Medium   Salsa 300g              1430\n",
              "NCC Sour Cream &    Garden Chives 175g      1419\n",
              "French Fries Potato Chips 175g              1418\n",
              "WW Crinkle Cut      Original 175g           1410\n",
              "Name: PROD_NAME, Length: 114, dtype: int64"
            ]
          },
          "metadata": {
            "tags": []
          },
          "execution_count": 35
        }
      ]
    },
    {
      "cell_type": "code",
      "metadata": {
        "colab": {
          "base_uri": "https://localhost:8080/"
        },
        "id": "QF8DhrpYlhah",
        "outputId": "01050eb0-df73-4609-9ea8-fdeb7764ddbd"
      },
      "source": [
        "\n",
        "data.PROD_NBR.value_counts()"
      ],
      "execution_count": 36,
      "outputs": [
        {
          "output_type": "execute_result",
          "data": {
            "text/plain": [
              "102    3304\n",
              "108    3296\n",
              "33     3269\n",
              "112    3268\n",
              "75     3265\n",
              "       ... \n",
              "11     1431\n",
              "76     1430\n",
              "98     1419\n",
              "29     1418\n",
              "72     1410\n",
              "Name: PROD_NBR, Length: 114, dtype: int64"
            ]
          },
          "metadata": {
            "tags": []
          },
          "execution_count": 36
        }
      ]
    },
    {
      "cell_type": "code",
      "metadata": {
        "id": "YuFMOoTSl58b"
      },
      "source": [
        "#Consider Values less than 8.0\n",
        "X = numeric[numeric[\"TOT_SALES\"]< 8.00]"
      ],
      "execution_count": 37,
      "outputs": []
    },
    {
      "cell_type": "code",
      "metadata": {
        "colab": {
          "base_uri": "https://localhost:8080/",
          "height": 294
        },
        "id": "f-IiIWgWmK6_",
        "outputId": "487180c0-8bcc-4ced-aa82-ff868cef6c5b"
      },
      "source": [
        "sns.distplot(data.TOT_SALES ,kde =True )"
      ],
      "execution_count": 38,
      "outputs": [
        {
          "output_type": "execute_result",
          "data": {
            "text/plain": [
              "<matplotlib.axes._subplots.AxesSubplot at 0x7f8450283278>"
            ]
          },
          "metadata": {
            "tags": []
          },
          "execution_count": 38
        },
        {
          "output_type": "display_data",
          "data": {
            "image/png": "[encoded data removed]",
            "text/plain": [
              "<Figure size 432x288 with 1 Axes>"
            ]
          },
          "metadata": {
            "tags": [],
            "needs_background": "light"
          }
        }
      ]
    },
    {
      "cell_type": "code",
      "metadata": {
        "colab": {
          "base_uri": "https://localhost:8080/",
          "height": 351
        },
        "id": "61xM0sO2mNKv",
        "outputId": "1feba4dd-284d-49d9-b41a-e617d80e80e2"
      },
      "source": [
        "sns.distplot(X.TOT_SALES ,kde =True )"
      ],
      "execution_count": 39,
      "outputs": [
        {
          "output_type": "stream",
          "text": [
            "/usr/local/lib/python3.6/dist-packages/seaborn/distributions.py:2557: FutureWarning: `distplot` is a deprecated function and will be removed in a future version. Please adapt your code to use either `displot` (a figure-level function with similar flexibility) or `histplot` (an axes-level function for histograms).\n",
            "  warnings.warn(msg, FutureWarning)\n"
          ],
          "name": "stderr"
        },
        {
          "output_type": "execute_result",
          "data": {
            "text/plain": [
              "<matplotlib.axes._subplots.AxesSubplot at 0x7f844fe8fdd8>"
            ]
          },
          "metadata": {
            "tags": []
          },
          "execution_count": 39
        },
        {
          "output_type": "display_data",
          "data": {
            "image/png": "[encoded data removed]",
            "text/plain": [
              "<Figure size 432x288 with 1 Axes>"
            ]
          },
          "metadata": {
            "tags": [],
            "needs_background": "light"
          }
        }
      ]
    },
    {
      "cell_type": "code",
      "metadata": {
        "colab": {
          "base_uri": "https://localhost:8080/",
          "height": 351
        },
        "id": "2ojBeuM3mji_",
        "outputId": "5ed37c15-f17b-4650-f477-143e75ff4669"
      },
      "source": [
        "sns.boxplot(X.TOT_SALES )"
      ],
      "execution_count": 40,
      "outputs": [
        {
          "output_type": "stream",
          "text": [
            "/usr/local/lib/python3.6/dist-packages/seaborn/_decorators.py:43: FutureWarning: Pass the following variable as a keyword arg: x. From version 0.12, the only valid positional argument will be `data`, and passing other arguments without an explicit keyword will result in an error or misinterpretation.\n",
            "  FutureWarning\n"
          ],
          "name": "stderr"
        },
        {
          "output_type": "execute_result",
          "data": {
            "text/plain": [
              "<matplotlib.axes._subplots.AxesSubplot at 0x7f845080b6d8>"
            ]
          },
          "metadata": {
            "tags": []
          },
          "execution_count": 40
        },
        {
          "output_type": "display_data",
          "data": {
            "image/png": "[encoded data removed]",
            "text/plain": [
              "<Figure size 432x288 with 1 Axes>"
            ]
          },
          "metadata": {
            "tags": [],
            "needs_background": "light"
          }
        }
      ]
    },
    {
      "cell_type": "markdown",
      "metadata": {
        "id": "MoaQSBBumxJ5"
      },
      "source": [
        "Outliers Start at 8.0 mark in the TOT_SALES column"
      ]
    },
    {
      "cell_type": "code",
      "metadata": {
        "colab": {
          "base_uri": "https://localhost:8080/"
        },
        "id": "ODapyzIUmuYW",
        "outputId": "69052cea-3fe8-476e-b3ce-214fd60c4edc"
      },
      "source": [
        "data.dtypes"
      ],
      "execution_count": 41,
      "outputs": [
        {
          "output_type": "execute_result",
          "data": {
            "text/plain": [
              "DATE                int64\n",
              "STORE_NBR           int64\n",
              "LYLTY_CARD_NBR      int64\n",
              "TXN_ID              int64\n",
              "PROD_NBR            int64\n",
              "PROD_NAME          object\n",
              "PROD_QTY            int64\n",
              "TOT_SALES         float64\n",
              "dtype: object"
            ]
          },
          "metadata": {
            "tags": []
          },
          "execution_count": 41
        }
      ]
    },
    {
      "cell_type": "code",
      "metadata": {
        "id": "z7l-2P1hm5By"
      },
      "source": [
        "df2 =data.copy()"
      ],
      "execution_count": 42,
      "outputs": []
    },
    {
      "cell_type": "code",
      "metadata": {
        "colab": {
          "base_uri": "https://localhost:8080/",
          "height": 204
        },
        "id": "COtBTvdxnCNY",
        "outputId": "aa21e801-feaf-4be2-8e3e-a806fda72312"
      },
      "source": [
        "df2.head()"
      ],
      "execution_count": 44,
      "outputs": [
        {
          "output_type": "execute_result",
          "data": {
            "text/html": [
              "<div>\n",
              "<style scoped>\n",
              "    .dataframe tbody tr th:only-of-type {\n",
              "        vertical-align: middle;\n",
              "    }\n",
              "\n",
              "    .dataframe tbody tr th {\n",
              "        vertical-align: top;\n",
              "    }\n",
              "\n",
              "    .dataframe thead th {\n",
              "        text-align: right;\n",
              "    }\n",
              "</style>\n",
              "<table border=\"1\" class=\"dataframe\">\n",
              "  <thead>\n",
              "    <tr style=\"text-align: right;\">\n",
              "      <th></th>\n",
              "      <th>DATE</th>\n",
              "      <th>STORE_NBR</th>\n",
              "      <th>LYLTY_CARD_NBR</th>\n",
              "      <th>TXN_ID</th>\n",
              "      <th>PROD_NBR</th>\n",
              "      <th>PROD_NAME</th>\n",
              "      <th>PROD_QTY</th>\n",
              "      <th>TOT_SALES</th>\n",
              "    </tr>\n",
              "  </thead>\n",
              "  <tbody>\n",
              "    <tr>\n",
              "      <th>0</th>\n",
              "      <td>43390</td>\n",
              "      <td>1</td>\n",
              "      <td>1000</td>\n",
              "      <td>1</td>\n",
              "      <td>5</td>\n",
              "      <td>Natural Chip        Compny SeaSalt175g</td>\n",
              "      <td>2</td>\n",
              "      <td>6.0</td>\n",
              "    </tr>\n",
              "    <tr>\n",
              "      <th>1</th>\n",
              "      <td>43599</td>\n",
              "      <td>1</td>\n",
              "      <td>1307</td>\n",
              "      <td>348</td>\n",
              "      <td>66</td>\n",
              "      <td>CCs Nacho Cheese    175g</td>\n",
              "      <td>3</td>\n",
              "      <td>6.3</td>\n",
              "    </tr>\n",
              "    <tr>\n",
              "      <th>2</th>\n",
              "      <td>43605</td>\n",
              "      <td>1</td>\n",
              "      <td>1343</td>\n",
              "      <td>383</td>\n",
              "      <td>61</td>\n",
              "      <td>Smiths Crinkle Cut  Chips Chicken 170g</td>\n",
              "      <td>2</td>\n",
              "      <td>2.9</td>\n",
              "    </tr>\n",
              "    <tr>\n",
              "      <th>3</th>\n",
              "      <td>43329</td>\n",
              "      <td>2</td>\n",
              "      <td>2373</td>\n",
              "      <td>974</td>\n",
              "      <td>69</td>\n",
              "      <td>Smiths Chip Thinly  S/Cream&amp;Onion 175g</td>\n",
              "      <td>5</td>\n",
              "      <td>15.0</td>\n",
              "    </tr>\n",
              "    <tr>\n",
              "      <th>4</th>\n",
              "      <td>43330</td>\n",
              "      <td>2</td>\n",
              "      <td>2426</td>\n",
              "      <td>1038</td>\n",
              "      <td>108</td>\n",
              "      <td>Kettle Tortilla ChpsHny&amp;Jlpno Chili 150g</td>\n",
              "      <td>3</td>\n",
              "      <td>13.8</td>\n",
              "    </tr>\n",
              "  </tbody>\n",
              "</table>\n",
              "</div>"
            ],
            "text/plain": [
              "    DATE  STORE_NBR  ...  PROD_QTY  TOT_SALES\n",
              "0  43390          1  ...         2        6.0\n",
              "1  43599          1  ...         3        6.3\n",
              "2  43605          1  ...         2        2.9\n",
              "3  43329          2  ...         5       15.0\n",
              "4  43330          2  ...         3       13.8\n",
              "\n",
              "[5 rows x 8 columns]"
            ]
          },
          "metadata": {
            "tags": []
          },
          "execution_count": 44
        }
      ]
    },
    {
      "cell_type": "code",
      "metadata": {
        "id": "kaDmcf5onDRH"
      },
      "source": [
        "df2.DATE = pd.to_datetime(df2.DATE)"
      ],
      "execution_count": 48,
      "outputs": []
    },
    {
      "cell_type": "code",
      "metadata": {
        "colab": {
          "base_uri": "https://localhost:8080/",
          "height": 589
        },
        "id": "fGf8Mdj_ntDP",
        "outputId": "0ed9c7b3-9ddd-45ba-d9d9-1e706ce51aea"
      },
      "source": [
        "df2"
      ],
      "execution_count": 49,
      "outputs": [
        {
          "output_type": "execute_result",
          "data": {
            "text/html": [
              "<div>\n",
              "<style scoped>\n",
              "    .dataframe tbody tr th:only-of-type {\n",
              "        vertical-align: middle;\n",
              "    }\n",
              "\n",
              "    .dataframe tbody tr th {\n",
              "        vertical-align: top;\n",
              "    }\n",
              "\n",
              "    .dataframe thead th {\n",
              "        text-align: right;\n",
              "    }\n",
              "</style>\n",
              "<table border=\"1\" class=\"dataframe\">\n",
              "  <thead>\n",
              "    <tr style=\"text-align: right;\">\n",
              "      <th></th>\n",
              "      <th>DATE</th>\n",
              "      <th>STORE_NBR</th>\n",
              "      <th>LYLTY_CARD_NBR</th>\n",
              "      <th>TXN_ID</th>\n",
              "      <th>PROD_NBR</th>\n",
              "      <th>PROD_NAME</th>\n",
              "      <th>PROD_QTY</th>\n",
              "      <th>TOT_SALES</th>\n",
              "    </tr>\n",
              "  </thead>\n",
              "  <tbody>\n",
              "    <tr>\n",
              "      <th>0</th>\n",
              "      <td>1970-01-01 00:00:00.000043390</td>\n",
              "      <td>1</td>\n",
              "      <td>1000</td>\n",
              "      <td>1</td>\n",
              "      <td>5</td>\n",
              "      <td>Natural Chip        Compny SeaSalt175g</td>\n",
              "      <td>2</td>\n",
              "      <td>6.0</td>\n",
              "    </tr>\n",
              "    <tr>\n",
              "      <th>1</th>\n",
              "      <td>1970-01-01 00:00:00.000043599</td>\n",
              "      <td>1</td>\n",
              "      <td>1307</td>\n",
              "      <td>348</td>\n",
              "      <td>66</td>\n",
              "      <td>CCs Nacho Cheese    175g</td>\n",
              "      <td>3</td>\n",
              "      <td>6.3</td>\n",
              "    </tr>\n",
              "    <tr>\n",
              "      <th>2</th>\n",
              "      <td>1970-01-01 00:00:00.000043605</td>\n",
              "      <td>1</td>\n",
              "      <td>1343</td>\n",
              "      <td>383</td>\n",
              "      <td>61</td>\n",
              "      <td>Smiths Crinkle Cut  Chips Chicken 170g</td>\n",
              "      <td>2</td>\n",
              "      <td>2.9</td>\n",
              "    </tr>\n",
              "    <tr>\n",
              "      <th>3</th>\n",
              "      <td>1970-01-01 00:00:00.000043329</td>\n",
              "      <td>2</td>\n",
              "      <td>2373</td>\n",
              "      <td>974</td>\n",
              "      <td>69</td>\n",
              "      <td>Smiths Chip Thinly  S/Cream&amp;Onion 175g</td>\n",
              "      <td>5</td>\n",
              "      <td>15.0</td>\n",
              "    </tr>\n",
              "    <tr>\n",
              "      <th>4</th>\n",
              "      <td>1970-01-01 00:00:00.000043330</td>\n",
              "      <td>2</td>\n",
              "      <td>2426</td>\n",
              "      <td>1038</td>\n",
              "      <td>108</td>\n",
              "      <td>Kettle Tortilla ChpsHny&amp;Jlpno Chili 150g</td>\n",
              "      <td>3</td>\n",
              "      <td>13.8</td>\n",
              "    </tr>\n",
              "    <tr>\n",
              "      <th>...</th>\n",
              "      <td>...</td>\n",
              "      <td>...</td>\n",
              "      <td>...</td>\n",
              "      <td>...</td>\n",
              "      <td>...</td>\n",
              "      <td>...</td>\n",
              "      <td>...</td>\n",
              "      <td>...</td>\n",
              "    </tr>\n",
              "    <tr>\n",
              "      <th>264831</th>\n",
              "      <td>1970-01-01 00:00:00.000043533</td>\n",
              "      <td>272</td>\n",
              "      <td>272319</td>\n",
              "      <td>270088</td>\n",
              "      <td>89</td>\n",
              "      <td>Kettle Sweet Chilli And Sour Cream 175g</td>\n",
              "      <td>2</td>\n",
              "      <td>10.8</td>\n",
              "    </tr>\n",
              "    <tr>\n",
              "      <th>264832</th>\n",
              "      <td>1970-01-01 00:00:00.000043325</td>\n",
              "      <td>272</td>\n",
              "      <td>272358</td>\n",
              "      <td>270154</td>\n",
              "      <td>74</td>\n",
              "      <td>Tostitos Splash Of  Lime 175g</td>\n",
              "      <td>1</td>\n",
              "      <td>4.4</td>\n",
              "    </tr>\n",
              "    <tr>\n",
              "      <th>264833</th>\n",
              "      <td>1970-01-01 00:00:00.000043410</td>\n",
              "      <td>272</td>\n",
              "      <td>272379</td>\n",
              "      <td>270187</td>\n",
              "      <td>51</td>\n",
              "      <td>Doritos Mexicana    170g</td>\n",
              "      <td>2</td>\n",
              "      <td>8.8</td>\n",
              "    </tr>\n",
              "    <tr>\n",
              "      <th>264834</th>\n",
              "      <td>1970-01-01 00:00:00.000043461</td>\n",
              "      <td>272</td>\n",
              "      <td>272379</td>\n",
              "      <td>270188</td>\n",
              "      <td>42</td>\n",
              "      <td>Doritos Corn Chip Mexican Jalapeno 150g</td>\n",
              "      <td>2</td>\n",
              "      <td>7.8</td>\n",
              "    </tr>\n",
              "    <tr>\n",
              "      <th>264835</th>\n",
              "      <td>1970-01-01 00:00:00.000043365</td>\n",
              "      <td>272</td>\n",
              "      <td>272380</td>\n",
              "      <td>270189</td>\n",
              "      <td>74</td>\n",
              "      <td>Tostitos Splash Of  Lime 175g</td>\n",
              "      <td>2</td>\n",
              "      <td>8.8</td>\n",
              "    </tr>\n",
              "  </tbody>\n",
              "</table>\n",
              "<p>264836 rows × 8 columns</p>\n",
              "</div>"
            ],
            "text/plain": [
              "                                DATE  STORE_NBR  ...  PROD_QTY  TOT_SALES\n",
              "0      1970-01-01 00:00:00.000043390          1  ...         2        6.0\n",
              "1      1970-01-01 00:00:00.000043599          1  ...         3        6.3\n",
              "2      1970-01-01 00:00:00.000043605          1  ...         2        2.9\n",
              "3      1970-01-01 00:00:00.000043329          2  ...         5       15.0\n",
              "4      1970-01-01 00:00:00.000043330          2  ...         3       13.8\n",
              "...                              ...        ...  ...       ...        ...\n",
              "264831 1970-01-01 00:00:00.000043533        272  ...         2       10.8\n",
              "264832 1970-01-01 00:00:00.000043325        272  ...         1        4.4\n",
              "264833 1970-01-01 00:00:00.000043410        272  ...         2        8.8\n",
              "264834 1970-01-01 00:00:00.000043461        272  ...         2        7.8\n",
              "264835 1970-01-01 00:00:00.000043365        272  ...         2        8.8\n",
              "\n",
              "[264836 rows x 8 columns]"
            ]
          },
          "metadata": {
            "tags": []
          },
          "execution_count": 49
        }
      ]
    },
    {
      "cell_type": "code",
      "metadata": {
        "id": "Eo_Ewu-Znx06"
      },
      "source": [
        ""
      ],
      "execution_count": null,
      "outputs": []
    }
  ]
}